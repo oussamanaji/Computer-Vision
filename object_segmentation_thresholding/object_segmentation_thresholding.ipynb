{
  "nbformat": 4,
  "nbformat_minor": 0,
  "metadata": {
    "colab": {
      "provenance": []
    },
    "kernelspec": {
      "name": "python3",
      "display_name": "Python 3"
    },
    "language_info": {
      "name": "python"
    }
  },
  "cells": [
    {
      "cell_type": "markdown",
      "source": [
        "# Segmenting Objects from Background using Thresholding Techniques\n",
        "\n",
        "Author: Mohamed Oussama NAJI\n",
        "\n",
        "Date: March 27, 2024"
      ],
      "metadata": {
        "id": "ReBuNeWxv_c6"
      }
    },
    {
      "cell_type": "markdown",
      "source": [
        "## Introduction\n",
        "\n",
        "In this notebook, we will explore various thresholding techniques to segment objects from the background in an image. Thresholding is a simple yet effective method for separating objects of interest from the background based on pixel intensities. We will apply eleven different thresholding techniques to an image and compare their results.\n"
      ],
      "metadata": {
        "id": "KUrv5WxNwD3c"
      }
    },
    {
      "cell_type": "markdown",
      "source": [
        "## Table of Contents\n",
        "1. [Loading the Image](#loading-image)\n",
        "2. [Binary Thresholding](#binary-thresholding)\n",
        "3. [Adaptive Thresholding](#adaptive-thresholding)\n",
        "4. [Otsu Thresholding](#otsu-thresholding)\n",
        "5. [Inverse Binary Thresholding](#inverse-binary-thresholding)\n",
        "6. [Truncation Thresholding](#truncation-thresholding)\n",
        "7. [To Zero Thresholding](#to-zero-thresholding)\n",
        "8. [To Zero Inverse Thresholding](#to-zero-inverse-thresholding)\n",
        "9. [Multi-Otsu Thresholding](#multi-otsu-thresholding)\n",
        "10. [Local Thresholding](#local-thresholding)\n",
        "11. [Hysteresis Thresholding](#hysteresis-thresholding)\n",
        "12. [Riddler-Calvard Thresholding](#riddler-calvard-thresholding)\n",
        "13. [Conclusion](#conclusion)"
      ],
      "metadata": {
        "id": "5QkDrLRVwF6g"
      }
    },
    {
      "cell_type": "markdown",
      "source": [
        "## Loading the Image <a id=\"loading-image\"></a>"
      ],
      "metadata": {
        "id": "NwLQ83xHwJ_N"
      }
    },
    {
      "cell_type": "code",
      "source": [
        "import os\n",
        "\n",
        "import cv2\n",
        "import numpy as np\n",
        "from matplotlib import pyplot as plt\n",
        "from skimage.filters import threshold_mean, threshold_multiotsu, threshold_otsu\n",
        "\n",
        "# Read image & convert to grayscale\n",
        "im = cv2.imread('mydinner.jpg')\n",
        "im = cv2.cvtColor(im, cv2.COLOR_BGR2RGB)\n",
        "\n",
        "im_gray = cv2.cvtColor(im, cv2.COLOR_RGB2GRAY)\n",
        "plt.imshow(im_gray, cmap='gray')\n",
        "plt.show()"
      ],
      "metadata": {
        "id": "WXjT4Wp0wMXn"
      },
      "execution_count": null,
      "outputs": []
    },
    {
      "cell_type": "markdown",
      "source": [
        "## Binary Thresholding <a id=\"binary-thresholding\"></a>"
      ],
      "metadata": {
        "id": "eGST3Pu0wRV6"
      }
    },
    {
      "cell_type": "code",
      "source": [
        "b = 72\n",
        "_, im_binary = cv2.threshold(im_gray, b, 255, cv2.THRESH_BINARY)\n",
        "plt.imshow(im_binary, cmap='gray')\n",
        "plt.show()"
      ],
      "metadata": {
        "id": "6auzfbSCwSzf"
      },
      "execution_count": null,
      "outputs": []
    },
    {
      "cell_type": "markdown",
      "source": [
        "## Adaptive Thresholding <a id=\"adaptive-thresholding\"></a>\n"
      ],
      "metadata": {
        "id": "8WsnA_HkwUlS"
      }
    },
    {
      "cell_type": "code",
      "source": [
        "im_edge = cv2.adaptiveThreshold(im_gray, 255,\n",
        "                                cv2.ADAPTIVE_THRESH_MEAN_C,\n",
        "                                cv2.THRESH_BINARY, 9, 2)\n",
        "\n",
        "plt.imshow(im_edge, cmap='gray')\n",
        "plt.show()"
      ],
      "metadata": {
        "id": "4ZQDydFLwWdk"
      },
      "execution_count": null,
      "outputs": []
    },
    {
      "cell_type": "markdown",
      "source": [
        "## Otsu Thresholding <a id=\"otsu-thresholding\"></a>\n"
      ],
      "metadata": {
        "id": "dTBseq2PwXq7"
      }
    },
    {
      "cell_type": "code",
      "source": [
        "_, im_otsu = cv2.threshold(im_gray, 0, 255, cv2.THRESH_BINARY+cv2.THRESH_OTSU)\n",
        "\n",
        "plt.imshow(im_otsu, cmap='gray')\n",
        "plt.show()"
      ],
      "metadata": {
        "id": "XqAQsmBlwaIV"
      },
      "execution_count": null,
      "outputs": []
    },
    {
      "cell_type": "markdown",
      "source": [
        "## Inverse Binary Thresholding <a id=\"inverse-binary-thresholding\"></a>\n"
      ],
      "metadata": {
        "id": "_8rJKwsJwbe8"
      }
    },
    {
      "cell_type": "code",
      "source": [
        "_, inv_binary_thresh = cv2.threshold(im_gray, 127, 255, cv2.THRESH_BINARY_INV)\n",
        "plt.imshow(inv_binary_thresh, cmap='gray')\n",
        "plt.title('Inverse Binary Thresholding')\n",
        "plt.show()"
      ],
      "metadata": {
        "id": "l0LAv7lcweQh"
      },
      "execution_count": null,
      "outputs": []
    },
    {
      "cell_type": "markdown",
      "source": [
        "## Truncation Thresholding <a id=\"truncation-thresholding\"></a>\n"
      ],
      "metadata": {
        "id": "FuC2ZSkCwftd"
      }
    },
    {
      "cell_type": "code",
      "source": [
        "_, trunc_thresh = cv2.threshold(im_gray, 127, 255, cv2.THRESH_TRUNC)\n",
        "plt.imshow(trunc_thresh, cmap='gray')\n",
        "plt.title('Truncation Thresholding')\n",
        "plt.show()"
      ],
      "metadata": {
        "id": "tuy_rZCowhGL"
      },
      "execution_count": null,
      "outputs": []
    },
    {
      "cell_type": "markdown",
      "source": [
        "## To Zero Thresholding <a id=\"to-zero-thresholding\"></a>\n"
      ],
      "metadata": {
        "id": "JHFrzJRtwiaY"
      }
    },
    {
      "cell_type": "code",
      "source": [
        "_, tozero_thresh = cv2.threshold(im_gray, 127, 255, cv2.THRESH_TOZERO)\n",
        "plt.imshow(tozero_thresh, cmap='gray')\n",
        "plt.title('To Zero Thresholding')\n",
        "plt.show()"
      ],
      "metadata": {
        "id": "yFXXmsJ_wkaa"
      },
      "execution_count": null,
      "outputs": []
    },
    {
      "cell_type": "markdown",
      "source": [
        "## To Zero Inverse Thresholding <a id=\"to-zero-inverse-thresholding\"></a>\n"
      ],
      "metadata": {
        "id": "dnD0XlE1wl2_"
      }
    },
    {
      "cell_type": "code",
      "source": [
        "_, tozero_inv_thresh = cv2.threshold(im_gray, 127, 255, cv2.THRESH_TOZERO_INV)\n",
        "plt.imshow(tozero_inv_thresh, cmap='gray')\n",
        "plt.title('To Zero Inverse Thresholding')\n",
        "plt.show()"
      ],
      "metadata": {
        "id": "sES3zbAZwnfX"
      },
      "execution_count": null,
      "outputs": []
    },
    {
      "cell_type": "markdown",
      "source": [
        "## Multi-Otsu Thresholding <a id=\"multi-otsu-thresholding\"></a>\n"
      ],
      "metadata": {
        "id": "HFdJsTa3wo2B"
      }
    },
    {
      "cell_type": "code",
      "source": [
        "thresholds = threshold_multiotsu(im_gray, classes=3)\n",
        "regions = np.digitize(im_gray, bins=thresholds)\n",
        "plt.imshow(regions, cmap='gray')\n",
        "plt.title('Multi-Otsu Thresholding')\n",
        "plt.show()"
      ],
      "metadata": {
        "id": "Cyz-3KuNwqFR"
      },
      "execution_count": null,
      "outputs": []
    },
    {
      "cell_type": "markdown",
      "source": [
        "## Local Thresholding <a id=\"local-thresholding\"></a>\n"
      ],
      "metadata": {
        "id": "f2kN_IVYwrRi"
      }
    },
    {
      "cell_type": "code",
      "source": [
        "adaptive_thresh = cv2.adaptiveThreshold(im_gray, 255, cv2.ADAPTIVE_THRESH_GAUSSIAN_C,\n",
        "                                        cv2.THRESH_BINARY, 11, 2)\n",
        "plt.imshow(adaptive_thresh, cmap='gray')\n",
        "plt.title('Local (Adaptive) Thresholding')\n",
        "plt.show()"
      ],
      "metadata": {
        "id": "FO2uFQH9ws4V"
      },
      "execution_count": null,
      "outputs": []
    },
    {
      "cell_type": "markdown",
      "source": [
        "## Hysteresis Thresholding <a id=\"hysteresis-thresholding\"></a>\n"
      ],
      "metadata": {
        "id": "AVehjpsdwt-e"
      }
    },
    {
      "cell_type": "code",
      "source": [
        "low_thresh, high_thresh = 50, 100\n",
        "low_thresh_img = cv2.threshold(im_gray, low_thresh, 255, cv2.THRESH_BINARY)[1]\n",
        "high_thresh_img = cv2.threshold(im_gray, high_thresh, 255, cv2.THRESH_BINARY)[1]\n",
        "\n",
        "hysteresis_thresh = np.zeros_like(im_gray)\n",
        "hysteresis_thresh[(low_thresh_img == 255) & (high_thresh_img == 255)] = 255\n",
        "\n",
        "plt.imshow(hysteresis_thresh, cmap='gray')\n",
        "plt.title('Hysteresis Thresholding')\n",
        "plt.show()"
      ],
      "metadata": {
        "id": "-7FsCYNFwvua"
      },
      "execution_count": null,
      "outputs": []
    },
    {
      "cell_type": "markdown",
      "source": [
        "## Riddler-Calvard Thresholding <a id=\"riddler-calvard-thresholding\"></a>\n"
      ],
      "metadata": {
        "id": "TIaimUP9wxJO"
      }
    },
    {
      "cell_type": "code",
      "source": [
        "otsu_thresh_val = threshold_otsu(im_gray)\n",
        "mean_thresh_val = threshold_mean(im_gray)\n",
        "rc_thresh_val = (otsu_thresh_val + mean_thresh_val) / 2\n",
        "\n",
        "_, rc_thresh = cv2.threshold(im_gray, rc_thresh_val, 255, cv2.THRESH_BINARY)\n",
        "plt.imshow(rc_thresh, cmap='gray')\n",
        "plt.title('Riddler-Calvard Thresholding')\n",
        "plt.show()"
      ],
      "metadata": {
        "id": "gVX6j0lKwyS7"
      },
      "execution_count": null,
      "outputs": []
    },
    {
      "cell_type": "markdown",
      "source": [
        "## Conclusion <a id=\"conclusion\"></a>\n",
        "\n",
        "In this notebook, we applied eleven different thresholding techniques to segment objects from the background in an image. Each technique has its own characteristics and performs differently depending on the image content and the desired segmentation outcome.\n",
        "\n",
        "Binary thresholding is the simplest technique, where pixels above a fixed threshold are assigned one value, and pixels below the threshold are assigned another value. Adaptive thresholding dynamically determines the threshold based on the local neighborhood of each pixel. Otsu thresholding automatically calculates an optimal global threshold based on the image histogram.\n",
        "\n",
        "Inverse binary thresholding, truncation thresholding, to zero thresholding, and to zero inverse thresholding are variations of binary thresholding with different behaviors for pixels above and below the threshold.\n",
        "\n",
        "Multi-Otsu thresholding extends Otsu's method to handle multiple classes or regions in the image. Local thresholding adapts the threshold based on the local neighborhood, allowing for better segmentation in non-uniform illumination conditions.\n",
        "\n",
        "Hysteresis thresholding uses two threshold values to create a more robust segmentation by considering the connectivity of pixels. Riddler-Calvard thresholding combines Otsu's method with the mean threshold to determine an optimal threshold.\n",
        "\n",
        "Each thresholding technique has its strengths and weaknesses, and the choice of technique depends on the specific requirements of the application and the characteristics of the image being processed. Experimenting with different techniques and adjusting the parameters can help in achieving the desired segmentation results.\n",
        "\n",
        "Overall, thresholding is a fundamental image segmentation technique that can be used as a starting point for more advanced object detection and recognition tasks."
      ],
      "metadata": {
        "id": "OGcPCCHmw2UN"
      }
    }
  ]
}