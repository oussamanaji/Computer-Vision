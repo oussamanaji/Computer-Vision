{
  "nbformat": 4,
  "nbformat_minor": 0,
  "metadata": {
    "colab": {
      "provenance": []
    },
    "kernelspec": {
      "name": "python3",
      "display_name": "Python 3"
    },
    "language_info": {
      "name": "python"
    }
  },
  "cells": [
    {
      "cell_type": "markdown",
      "source": [
        "# Thief Detector\n",
        "\n",
        "Author: Mohamed Oussama NAJI\n",
        "\n",
        "Date: March 27, 2024"
      ],
      "metadata": {
        "id": "SRW7GZKdKCYT"
      }
    },
    {
      "cell_type": "markdown",
      "source": [
        "## Table of Contents\n",
        "1. [Introduction](#introduction)\n",
        "2. [Implementation](#implementation)\n",
        "    - [Get Live Video Feed from Webcam](#video-feed)\n",
        "    - [Read First Frame and Store as Reference Background Image](#first-frame)\n",
        "    - [Compute Absolute Difference between Current and First Frame](#frame-difference)\n",
        "    - [Apply Threshold](#threshold)\n",
        "    - [Find Contours](#contours)\n",
        "    - [Check Contour Area and Draw Rectangle](#contour-area)\n",
        "    - [Display Images](#display-images)\n",
        "    - [Release Objects](#release-objects)\n",
        "    - [Main Function](#main-function)\n",
        "3. [Results](#results)\n",
        "4. [Conclusion](#conclusion)"
      ],
      "metadata": {
        "id": "r_M2y34nKWGS"
      }
    },
    {
      "cell_type": "markdown",
      "source": [
        "## Introduction <a id=\"introduction\"></a>\n",
        "\n",
        "This project demonstrates how to build a motion detection algorithm that alerts you when an unwanted visitor is detected in your home. The algorithm uses image processing techniques to detect changes in the monitored scene and triggers an alarm if an intruder is detected.\n",
        "\n",
        "The main steps involved in the thief detector algorithm are:\n",
        "1. Get the live video feed from your webcam.\n",
        "2. Fix a scene (the place you want to monitor) and store it as a reference background image.\n",
        "3. For every frame, check if there is any unwanted object inside the scene you are monitoring using background subtraction.\n",
        "4. Output the text \"UNSAFE\" in red color on the top right of the frame when there is an intruder in the scene.\n",
        "5. Save the live feed."
      ],
      "metadata": {
        "id": "OycaZe7OKeRy"
      }
    },
    {
      "cell_type": "markdown",
      "source": [
        "## Implementation <a id=\"implementation\"></a>\n",
        "\n",
        "### Get Live Video Feed from Webcam <a id=\"video-feed\"></a>\n"
      ],
      "metadata": {
        "id": "tCZ7d3udKkFK"
      }
    },
    {
      "cell_type": "code",
      "source": [
        "import cv2\n",
        "import time\n",
        "\n",
        "def get_video_feed(camera_index=0):\n",
        "    cap = cv2.VideoCapture(camera_index)\n",
        "    return cap"
      ],
      "metadata": {
        "id": "dKrdiihZKnxi"
      },
      "execution_count": null,
      "outputs": []
    },
    {
      "cell_type": "markdown",
      "source": [
        "### Read First Frame and Store as Reference Background Image <a id=\"first-frame\"></a>\n"
      ],
      "metadata": {
        "id": "YEt6mXBRKptx"
      }
    },
    {
      "cell_type": "code",
      "source": [
        "def initialize_background(cap):\n",
        "    ret, reference_frame = cap.read()\n",
        "    if not ret:\n",
        "        print(\"Error: Unable to read the first frame.\")\n",
        "        exit()\n",
        "\n",
        "    reference_frame = cv2.cvtColor(reference_frame, cv2.COLOR_BGR2GRAY)\n",
        "    return reference_frame"
      ],
      "metadata": {
        "id": "IY7tRxJfKrbC"
      },
      "execution_count": null,
      "outputs": []
    },
    {
      "cell_type": "markdown",
      "source": [
        "### Compute Absolute Difference between Current and First Frame <a id=\"frame-difference\"></a>\n"
      ],
      "metadata": {
        "id": "ydMF_sZQKuNh"
      }
    },
    {
      "cell_type": "code",
      "source": [
        "def compute_difference(frame, reference_frame):\n",
        "    gray = cv2.cvtColor(frame, cv2.COLOR_BGR2GRAY)\n",
        "    frame_diff = cv2.absdiff(gray, reference_frame)\n",
        "    return frame_diff"
      ],
      "metadata": {
        "id": "_FYZYC-CKv6q"
      },
      "execution_count": null,
      "outputs": []
    },
    {
      "cell_type": "markdown",
      "source": [
        "### Apply Threshold <a id=\"threshold\"></a>"
      ],
      "metadata": {
        "id": "ipv5jY6NKxJZ"
      }
    },
    {
      "cell_type": "code",
      "source": [
        "def apply_threshold(frame_diff, threshold_value=25):\n",
        "    _, thresh = cv2.threshold(frame_diff, threshold_value, 255, cv2.THRESH_BINARY)\n",
        "    return thresh"
      ],
      "metadata": {
        "id": "GjFXjSQgKyeS"
      },
      "execution_count": null,
      "outputs": []
    },
    {
      "cell_type": "markdown",
      "source": [
        "### Find Contours <a id=\"contours\"></a>"
      ],
      "metadata": {
        "id": "mc5HVYh7K0YZ"
      }
    },
    {
      "cell_type": "code",
      "source": [
        "def find_contours(thresh):\n",
        "    contours, _ = cv2.findContours(thresh, cv2.RETR_EXTERNAL, cv2.CHAIN_APPROX_SIMPLE)\n",
        "    return contours"
      ],
      "metadata": {
        "id": "f7G4n3X6K1aa"
      },
      "execution_count": null,
      "outputs": []
    },
    {
      "cell_type": "markdown",
      "source": [
        "### Check Contour Area and Draw Rectangle <a id=\"contour-area\"></a>"
      ],
      "metadata": {
        "id": "XLPUbU9CK3NK"
      }
    },
    {
      "cell_type": "code",
      "source": [
        "def check_contour_area(frame, contours, threshold_area=100):\n",
        "    for contour in contours:\n",
        "        area = cv2.contourArea(contour)\n",
        "        if area > threshold_area:\n",
        "            x, y, w, h = cv2.boundingRect(contour)\n",
        "            cv2.rectangle(frame, (x, y), (x + w, y + h), (0, 0, 255), 2)\n",
        "            cv2.putText(frame, \"UNSAFE\", (frame.shape[1] - 150, 50),\n",
        "                        cv2.FONT_HERSHEY_SIMPLEX, 1, (0, 0, 255), 2, cv2.LINE_AA)\n",
        "            print(\"Motion detected! Triggering alarm.\")"
      ],
      "metadata": {
        "id": "yO2hmBklK41S"
      },
      "execution_count": null,
      "outputs": []
    },
    {
      "cell_type": "markdown",
      "source": [
        "### Display Images <a id=\"display-images\"></a>"
      ],
      "metadata": {
        "id": "1QDNFv_MK6P6"
      }
    },
    {
      "cell_type": "code",
      "source": [
        "def display_images(frame, thresh):\n",
        "    cv2.imshow('Frame', frame)\n",
        "    cv2.imshow('Motion', thresh)"
      ],
      "metadata": {
        "id": "Ojo4SSOHK7Wy"
      },
      "execution_count": null,
      "outputs": []
    },
    {
      "cell_type": "markdown",
      "source": [
        "### Release Objects <a id=\"release-objects\"></a>"
      ],
      "metadata": {
        "id": "hty6SuVxK8ya"
      }
    },
    {
      "cell_type": "code",
      "source": [
        "def release_objects(cap):\n",
        "    cap.release()\n",
        "    cv2.destroyAllWindows()"
      ],
      "metadata": {
        "id": "Z_aIXJb3K906"
      },
      "execution_count": null,
      "outputs": []
    },
    {
      "cell_type": "markdown",
      "source": [
        "### Update Reference Frame"
      ],
      "metadata": {
        "id": "0kHLhPSTLBaC"
      }
    },
    {
      "cell_type": "code",
      "source": [
        "REFERENCE_UPDATE_INTERVAL = 5  # this is to update reference frame every 5s\n",
        "def update_reference_frame(cap, reference_frame):\n",
        "    ret, new_reference_frame = cap.read()\n",
        "    if ret:\n",
        "        new_reference_frame = cv2.cvtColor(new_reference_frame, cv2.COLOR_BGR2GRAY)\n",
        "        return new_reference_frame\n",
        "    else:\n",
        "        return reference_frame"
      ],
      "metadata": {
        "id": "VkB-YQmgLC36"
      },
      "execution_count": null,
      "outputs": []
    },
    {
      "cell_type": "markdown",
      "source": [
        "### Main Function <a id=\"main-function\"></a>"
      ],
      "metadata": {
        "id": "ZnASvCI-LEKq"
      }
    },
    {
      "cell_type": "code",
      "source": [
        "VIDEO_OUTPUT_FILE = 'thiefdetector2.mp4'\n",
        "fourcc = cv2.VideoWriter_fourcc(*'mp4v')\n",
        "out = cv2.VideoWriter(VIDEO_OUTPUT_FILE, fourcc, 20.0, (640, 480))\n",
        "\n",
        "def main():\n",
        "    cap = get_video_feed()\n",
        "    reference_frame = initialize_background(cap)\n",
        "    last_reference_update = time.time()\n",
        "\n",
        "    while True:\n",
        "        ret, frame = cap.read()\n",
        "        if not ret:\n",
        "            print(\"Error: Unable to read a frame.\")\n",
        "            break\n",
        "\n",
        "        frame_diff = compute_difference(frame, reference_frame)\n",
        "        thresh = apply_threshold(frame_diff)\n",
        "        contours = find_contours(thresh)\n",
        "        check_contour_area(frame, contours)\n",
        "        display_images(frame, thresh)\n",
        "        out.write(frame)\n",
        "\n",
        "        if cv2.waitKey(1) & 0xFF == ord('q'):\n",
        "            out.release()\n",
        "            break\n",
        "\n",
        "        if time.time() - last_reference_update > REFERENCE_UPDATE_INTERVAL:\n",
        "            reference_frame = update_reference_frame(cap, reference_frame)\n",
        "            last_reference_update = time.time()\n",
        "\n",
        "    release_objects(cap)\n",
        "\n",
        "if __name__ == \"__main__\":\n",
        "    main()"
      ],
      "metadata": {
        "id": "r9pG3RC7LGBa"
      },
      "execution_count": null,
      "outputs": []
    },
    {
      "cell_type": "markdown",
      "source": [
        "## Results <a id=\"results\"></a>\n",
        "\n",
        "The thief detector algorithm was successfully implemented and tested using a webcam. The algorithm was able to detect motion in the monitored scene and trigger an alarm when an intruder was detected.\n",
        "\n",
        "The output video file \"thiefdetector2.mp4\" was generated, which captures the live feed along with the \"UNSAFE\" text displayed in red color when motion is detected.\n"
      ],
      "metadata": {
        "id": "kCKqpzz0LILi"
      }
    },
    {
      "cell_type": "markdown",
      "source": [
        "## Conclusion <a id=\"conclusion\"></a>\n",
        "\n",
        "In this project, we developed a thief detector using image processing techniques. The algorithm monitors a fixed scene and detects any unwanted objects or motion within that scene. When an intruder is detected, the algorithm triggers an alarm and displays the text \"UNSAFE\" in red color on the top right of the frame.\n",
        "\n",
        "The thief detector can be further enhanced by incorporating additional features such as:\n",
        "- Sending alerts or notifications to the user when motion is detected.\n",
        "- Integrating with a security system to automatically trigger alarms or lock doors.\n",
        "- Improving the accuracy of motion detection by using more advanced techniques like background modeling or deep learning-based object detection.\n",
        "\n",
        "Overall, the thief detector provides a basic framework for building a motion detection system that can be used for home security or surveillance purposes."
      ],
      "metadata": {
        "id": "ggxc1AJrLLgi"
      }
    }
  ]
}