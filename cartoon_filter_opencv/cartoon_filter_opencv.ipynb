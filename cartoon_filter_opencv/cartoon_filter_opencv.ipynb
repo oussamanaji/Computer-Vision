{
  "nbformat": 4,
  "nbformat_minor": 0,
  "metadata": {
    "colab": {
      "provenance": []
    },
    "kernelspec": {
      "name": "python3",
      "display_name": "Python 3"
    },
    "language_info": {
      "name": "python"
    }
  },
  "cells": [
    {
      "cell_type": "markdown",
      "source": [
        "# Cartoon Filter using OpenCV\n",
        "\n",
        "Author: Mohamed Oussama NAJI\n",
        "\n",
        "Date: March 29, 2024"
      ],
      "metadata": {
        "id": "_g6bOlCdTk_w"
      }
    },
    {
      "cell_type": "markdown",
      "source": [
        "## Table of Contents\n",
        "1. [Introduction](#introduction)\n",
        "2. [Loading Haar Cascade for Face Detection](#loading-haar-cascade)\n",
        "3. [Loading and Preprocessing the Mask Image](#loading-mask-image)\n",
        "4. [Video Capture and Processing](#video-capture-processing)\n",
        "5. [Saving the Output Video](#saving-output-video)\n",
        "6. [Results](#results)\n",
        "7. [Conclusion](#conclusion)"
      ],
      "metadata": {
        "id": "POjKHi61ToDg"
      }
    },
    {
      "cell_type": "markdown",
      "source": [
        "## Introduction <a id=\"introduction\"></a>\n",
        "\n",
        "In this notebook, we will create a cartoon filter using OpenCV. The filter will detect faces in a video stream and overlay a Spider-Man mask on the detected faces in real-time. We will use the Haar cascade classifier for face detection and image processing techniques to blend the mask with the video frames.\n"
      ],
      "metadata": {
        "id": "CciktW1mUeIn"
      }
    },
    {
      "cell_type": "markdown",
      "source": [
        "## Loading Haar Cascade for Face Detection <a id=\"loading-haar-cascade\"></a>\n",
        "\n",
        "We're using a Haar cascade classifier for detecting faces in the video. The `haarcascade_frontalface_alt2.xml` is a pre-trained face detector provided by OpenCV.\n"
      ],
      "metadata": {
        "id": "klCtEYzxUfW_"
      }
    },
    {
      "cell_type": "code",
      "source": [
        "import cv2\n",
        "import numpy as np\n",
        "import os\n",
        "from matplotlib import pyplot as plt\n",
        "\n",
        "path_face_cascade = os.path.join(cv2.__file__.rsplit('python', 1)[0], 'data', 'haarcascade_frontalface_alt2.xml')\n",
        "face_cascade = cv2.CascadeClassifier(path_face_cascade)\n"
      ],
      "metadata": {
        "id": "m-xKS23yUi-n"
      },
      "execution_count": null,
      "outputs": []
    },
    {
      "cell_type": "markdown",
      "source": [
        "## Loading and Preprocessing the Mask Image <a id=\"loading-mask-image\"></a>"
      ],
      "metadata": {
        "id": "N8zIMhPjUjxQ"
      }
    },
    {
      "cell_type": "code",
      "source": [
        "# Load the Spider-Man mask image\n",
        "mask_image = cv2.imread('spiderman2.png', cv2.IMREAD_UNCHANGED)\n",
        "\n",
        "# If the image has 3 channels (B, G, R)\n",
        "if mask_image.shape[2] == 3:\n",
        "    # Add an alpha channel\n",
        "    mask_image = cv2.cvtColor(mask_image, cv2.COLOR_BGR2BGRA)\n",
        "\n",
        "# Set all white (also shades of whites) pixels to be transparent\n",
        "white_area = cv2.inRange(mask_image, (200, 200, 200, 255), (255, 255, 255, 255))\n",
        "mask_image[white_area > 0] = (255, 255, 255, 0)\n",
        "\n",
        "# Save the image\n",
        "cv2.imwrite('hanchoufou.png', mask_image)\n",
        "\n",
        "# Load the final image\n",
        "final_image = cv2.imread('hanchoufou.png', cv2.IMREAD_UNCHANGED)\n",
        "\n",
        "# Convert the image from BGR to RGBA\n",
        "final_image = cv2.cvtColor(final_image, cv2.COLOR_BGRA2RGBA)\n",
        "mask_image = final_image\n",
        "\n",
        "# Display the image\n",
        "plt.imshow(final_image)\n",
        "plt.show()\n",
        "\n",
        "print(mask_image.shape)\n",
        "\n",
        "# If the image has 3 channels (B, G, R)\n",
        "if mask_image.shape[2] == 3:\n",
        "    # Add an alpha channel\n",
        "    mask_image = cv2.cvtColor(mask_image, cv2.COLOR_BGR2BGRA)\n",
        "\n",
        "unique_values = np.unique(mask_image[:, :, 3])\n",
        "print(unique_values)\n",
        "\n",
        "# Resize the image\n",
        "scale_percent = 200  # percent of original size\n",
        "width = int(mask_image.shape[1] * scale_percent / 100)\n",
        "height = int(mask_image.shape[0] * scale_percent / 100)\n",
        "dim = (width, height)\n",
        "resized = cv2.resize(mask_image, dim, interpolation = cv2.INTER_AREA)\n",
        "\n",
        "# Display the image\n",
        "plt.imshow(cv2.cvtColor(resized, cv2.COLOR_BGRA2RGBA))\n",
        "plt.show()\n"
      ],
      "metadata": {
        "id": "E1jhqONtUpS_"
      },
      "execution_count": null,
      "outputs": []
    },
    {
      "cell_type": "markdown",
      "source": [
        "## Video Capture and Processing <a id=\"video-capture-processing\"></a>\n",
        "\n",
        "Here we start capturing video from the default camera.\n"
      ],
      "metadata": {
        "id": "QEj0r-10UsIH"
      }
    },
    {
      "cell_type": "code",
      "source": [
        "video_capture = cv2.VideoCapture(0)\n",
        "\n",
        "# Define the codec and create VideoWriter object to save the video\n",
        "fourcc = cv2.VideoWriter_fourcc(*'XVID')\n",
        "out = cv2.VideoWriter('output.avi', fourcc, 20.0, (640, 480))\n",
        "\n",
        "face_cascade = cv2.CascadeClassifier(cv2.data.haarcascades + 'haarcascade_frontalface_default.xml')\n",
        "\n",
        "while True:\n",
        "    # Capture frame-by-frame\n",
        "    ret, frame = video_capture.read()\n",
        "    if not ret:\n",
        "        break  # If no frame is captured, break the loop\n",
        "\n",
        "    # Convert to grayscale\n",
        "    gray_frame = cv2.cvtColor(frame, cv2.COLOR_BGR2GRAY)\n",
        "    detected_faces = face_cascade.detectMultiScale(gray_frame, scaleFactor=1.1, minNeighbors=5, minSize=(30, 30))\n",
        "\n",
        "    for (x, y, w, h) in detected_faces:\n",
        "        # Resize mask to fit the face\n",
        "        mask_resized = cv2.resize(mask_image, (w, h))\n",
        "\n",
        "        # Take the alpha layer from the resized mask and create the inverse mask\n",
        "        mask_alpha = mask_resized[:, :, 3]\n",
        "        mask_inv = cv2.bitwise_not(mask_alpha)\n",
        "\n",
        "        # Take the color channels of the mask\n",
        "        mask_color = mask_resized[:, :, :3]\n",
        "\n",
        "        # Extract the region of interest (ROI) from the frame\n",
        "        roi = frame[y:y+h, x:x+w]\n",
        "\n",
        "        # Use the masks to blend the mask and the background\n",
        "        face_background = cv2.bitwise_and(roi, roi, mask=mask_inv)\n",
        "        mask_foreground = cv2.bitwise_and(mask_color, mask_color, mask=mask_alpha)\n",
        "\n",
        "        # Combine the background and the foreground\n",
        "        dst = cv2.add(face_background, mask_foreground)\n",
        "\n",
        "        # Place the combined image back onto the frame\n",
        "        frame[y:y+h, x:x+w] = dst\n",
        "\n",
        "    # Write the frame into the file 'output.avi'\n",
        "    out.write(frame)\n",
        "\n",
        "    # Display the resulting frame\n",
        "    cv2.imshow('Video with Spider-Man Mask', frame)\n",
        "\n",
        "    # Save a screenshot if 's' key is pressed\n",
        "    if cv2.waitKey(1) & 0xFF == ord('s'):\n",
        "        cv2.imwrite('/path/to/save/screenshot.png', frame)\n",
        "\n",
        "    # Exit loop if 'q' is pressed\n",
        "    if cv2.waitKey(1) & 0xFF == ord('q'):\n",
        "        break\n"
      ],
      "metadata": {
        "id": "YkyCuuLhUv5v"
      },
      "execution_count": null,
      "outputs": []
    },
    {
      "cell_type": "markdown",
      "source": [
        "## Saving the Output Video <a id=\"saving-output-video\"></a>"
      ],
      "metadata": {
        "id": "Umm8drJWU2KH"
      }
    },
    {
      "cell_type": "code",
      "source": [
        "# Release everything when job is finished\n",
        "video_capture.release()\n",
        "out.release()\n",
        "cv2.destroyAllWindows()"
      ],
      "metadata": {
        "id": "mQo3BKQDU5PH"
      },
      "execution_count": null,
      "outputs": []
    },
    {
      "cell_type": "markdown",
      "source": [
        "## Results <a id=\"results\"></a>\n",
        "\n",
        "The cartoon filter was successfully implemented using OpenCV. The program captures video from the default camera and detects faces in real-time using the Haar cascade classifier. For each detected face, the Spider-Man mask is resized to fit the face and blended with the video frame using image processing techniques.\n",
        "\n",
        "The resulting video with the cartoon filter applied is displayed in a window titled 'Video with Spider-Man Mask'. The user can save a screenshot of the current frame by pressing the 's' key and exit the program by pressing the 'q' key.\n",
        "\n",
        "The output video is saved as 'output.avi' in the same directory as the notebook."
      ],
      "metadata": {
        "id": "jhdkBWzrVPIu"
      }
    },
    {
      "cell_type": "markdown",
      "source": [
        "## Conclusion <a id=\"conclusion\"></a>\n",
        "\n",
        "In this notebook, we developed a cartoon filter using OpenCV to overlay a Spider-Man mask on detected faces in a video stream. We utilized the Haar cascade classifier for face detection and applied image processing techniques to blend the mask with the video frames.\n",
        "\n",
        "The cartoon filter provides an entertaining and interactive way to modify video streams in real-time. It can be further enhanced by adding more mask options, improving the face detection accuracy, and optimizing the performance for real-time processing.\n",
        "\n",
        "This project demonstrates the power of OpenCV for image and video processing tasks and showcases the potential for creating fun and engaging applications using computer vision techniques."
      ],
      "metadata": {
        "id": "MGGJ22ewVN6n"
      }
    }
  ]
}